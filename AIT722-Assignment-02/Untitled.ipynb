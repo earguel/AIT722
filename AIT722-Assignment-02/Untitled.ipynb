{
 "cells": [
  {
   "cell_type": "code",
   "execution_count": 2,
   "id": "147d58da",
   "metadata": {},
   "outputs": [],
   "source": [
    "import pandas as pd"
   ]
  },
  {
   "cell_type": "code",
   "execution_count": 25,
   "id": "7e451e74",
   "metadata": {},
   "outputs": [],
   "source": [
    "# df = pd.read_csv (r'~/Assignment 2 - AIT722/Meetup_Final_Data.csv')\n",
    "df = pd.read_csv(r'~/Assignment 2 - AIT722/Meetup_Final_Data.csv', usecols = ['city', 'topic'])"
   ]
  },
  {
   "cell_type": "code",
   "execution_count": 26,
   "id": "40bd34f4",
   "metadata": {},
   "outputs": [
    {
     "name": "stdout",
     "output_type": "stream",
     "text": [
      "        topic         city\n",
      "0        Arts  Great Falls\n",
      "1        Food    Arlington\n",
      "2       Local       Reston\n",
      "3    Wellness        Bowie\n",
      "4     Hobbies   Alexandria\n",
      "..        ...          ...\n",
      "158      Food   Washington\n",
      "159      Arts     Sterling\n",
      "160  Wellness   Washington\n",
      "161      Arts  Washington \n",
      "162      Food    Arlington\n",
      "\n",
      "[163 rows x 2 columns]\n"
     ]
    }
   ],
   "source": [
    "print (df)"
   ]
  },
  {
   "cell_type": "code",
   "execution_count": 18,
   "id": "a40179df",
   "metadata": {},
   "outputs": [
    {
     "data": {
      "text/html": [
       "<div>\n",
       "<style scoped>\n",
       "    .dataframe tbody tr th:only-of-type {\n",
       "        vertical-align: middle;\n",
       "    }\n",
       "\n",
       "    .dataframe tbody tr th {\n",
       "        vertical-align: top;\n",
       "    }\n",
       "\n",
       "    .dataframe thead th {\n",
       "        text-align: right;\n",
       "    }\n",
       "</style>\n",
       "<table border=\"1\" class=\"dataframe\">\n",
       "  <thead>\n",
       "    <tr style=\"text-align: right;\">\n",
       "      <th></th>\n",
       "      <th>topic</th>\n",
       "      <th>city</th>\n",
       "    </tr>\n",
       "  </thead>\n",
       "  <tbody>\n",
       "    <tr>\n",
       "      <th>count</th>\n",
       "      <td>163</td>\n",
       "      <td>163</td>\n",
       "    </tr>\n",
       "    <tr>\n",
       "      <th>unique</th>\n",
       "      <td>5</td>\n",
       "      <td>41</td>\n",
       "    </tr>\n",
       "    <tr>\n",
       "      <th>top</th>\n",
       "      <td>Wellness</td>\n",
       "      <td>Washington</td>\n",
       "    </tr>\n",
       "    <tr>\n",
       "      <th>freq</th>\n",
       "      <td>59</td>\n",
       "      <td>50</td>\n",
       "    </tr>\n",
       "  </tbody>\n",
       "</table>\n",
       "</div>"
      ],
      "text/plain": [
       "           topic        city\n",
       "count        163         163\n",
       "unique         5          41\n",
       "top     Wellness  Washington\n",
       "freq          59          50"
      ]
     },
     "execution_count": 18,
     "metadata": {},
     "output_type": "execute_result"
    }
   ],
   "source": [
    "df.describe()"
   ]
  },
  {
   "cell_type": "code",
   "execution_count": 27,
   "id": "f3414c89",
   "metadata": {},
   "outputs": [],
   "source": [
    "#fdf= df.loc [ df['topic'] == 'Hobbies' ]\n",
    "#fdf.count()\n",
    "#print(fdf)"
   ]
  },
  {
   "cell_type": "code",
   "execution_count": null,
   "id": "c3817f22",
   "metadata": {},
   "outputs": [],
   "source": [
    "# Create a series / list of all cities"
   ]
  },
  {
   "cell_type": "code",
   "execution_count": null,
   "id": "511b6127",
   "metadata": {},
   "outputs": [],
   "source": [
    "# Create a dictionary of the form: [CITY: [num0, num1, num2, num3, num4 ] ]... a city to 5-vector for each of the topics - Arts, Food, Hobbies, Local, Wellness.\n",
    "# To do this, for each city then create the vector; alternative is to do this and next step in one set of actions"
   ]
  },
  {
   "cell_type": "code",
   "execution_count": null,
   "id": "a9af7828",
   "metadata": {},
   "outputs": [],
   "source": []
  },
  {
   "cell_type": "code",
   "execution_count": null,
   "id": "6a905ea4",
   "metadata": {},
   "outputs": [],
   "source": []
  }
 ],
 "metadata": {
  "kernelspec": {
   "display_name": "Python 3",
   "language": "python",
   "name": "python3"
  },
  "language_info": {
   "codemirror_mode": {
    "name": "ipython",
    "version": 3
   },
   "file_extension": ".py",
   "mimetype": "text/x-python",
   "name": "python",
   "nbconvert_exporter": "python",
   "pygments_lexer": "ipython3",
   "version": "3.8.8"
  }
 },
 "nbformat": 4,
 "nbformat_minor": 5
}
